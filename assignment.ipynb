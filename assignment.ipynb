{
 "cells": [
  {
   "cell_type": "code",
   "execution_count": 1,
   "id": "3b16cc41",
   "metadata": {},
   "outputs": [
    {
     "name": "stdout",
     "output_type": "stream",
     "text": [
      "0\n",
      "1\n",
      "1\n",
      "2\n",
      "3\n",
      "5\n",
      "8\n",
      "13\n",
      "21\n",
      "34\n"
     ]
    }
   ],
   "source": [
    " #Write a function to print the fibonaaci series\n",
    "    \n",
    "def fib(n):\n",
    "    a = 0\n",
    "    b = 1\n",
    "    if n == 1:\n",
    "        print(a)\n",
    "    else:\n",
    "        print(a)\n",
    "        print(b)\n",
    "        for i in range(2,n):\n",
    "            c = a + b\n",
    "            a = b\n",
    "            b = c\n",
    "            print(c)\n",
    "fib(10)    "
   ]
  },
  {
   "cell_type": "code",
   "execution_count": null,
   "id": "af3ab6d7",
   "metadata": {},
   "outputs": [],
   "source": [
    "#What are Armstrong numbers? Write a function of a number is Armstrong number of not\n",
    "An Armstrong number, also known as narcissistic number, is a number that is equal to the sum of the cubes of its own digits. For example, 370 is an Armstrong number since 370 = 3*3*3 + 7*7*7 + 0*0*0 ."
   ]
  },
  {
   "cell_type": "code",
   "execution_count": 10,
   "id": "3515bd0d",
   "metadata": {},
   "outputs": [
    {
     "name": "stdout",
     "output_type": "stream",
     "text": [
      "Enter Number: 1634\n",
      "1634 is an Armstrong number\n"
     ]
    }
   ],
   "source": [
    "def Armstrong(n,o):\n",
    "    sum = 0\n",
    "    temp = n\n",
    "    while temp > 0:\n",
    "       digit = temp % 10\n",
    "       sum += digit ** o\n",
    "       temp = temp//10\n",
    "    if n == sum:\n",
    "       print(n,\"is an Armstrong number\")\n",
    "    else:\n",
    "       print(n,\"is not an Armstrong number\")\n",
    "    \n",
    "num = int(input(\"Enter Number: \"))\n",
    "order = len(str(num))\n",
    "Armstrong(num,order)"
   ]
  },
  {
   "cell_type": "code",
   "execution_count": null,
   "id": "14870a94",
   "metadata": {},
   "outputs": [],
   "source": [
    "#Difference between list and tuple support your answer with coding example\n",
    "#list\n",
    "List is just like the arrays, declared in other languages. Lists need not be homogeneous always which makes it the most powerful tool in Python. In Python, the list is a type of container in Data Structures, which is used to store multiple data at the same time. Lists are a useful tool for preserving a sequence of data and further iterating over it. \n",
    "Syntax: \n",
    "\n",
    "list_data = ['an', 'example', 'of', 'a', 'list']\n",
    "#tuple\n",
    "Tuple is also a sequence data type that can contain elements of different data types, but these are immutable in nature. In other words, a tuple is a collection of Python objects separated by commas. The tuple is faster than the list because of static in nature. \n",
    "Syntax:  \n",
    "\n",
    "tuple_data = ('this', 'is', 'an', 'example', 'of', 'tuple')"
   ]
  },
  {
   "cell_type": "code",
   "execution_count": null,
   "id": "159cb415",
   "metadata": {},
   "outputs": [],
   "source": [
    "#What is pep8?\n",
    "PEP 8, sometimes spelled PEP8 or PEP-8, is a document that provides guidelines and best practices on how to write Python code. The primary focus of PEP 8 is to improve the readability and consistency of Python code.\n",
    "\n",
    "PEP stands for Python Enhancement Proposal, and there are several of them. A PEP is a document that describes new features proposed for Python and documents aspects of Python, like design and style, for the community.\n",
    "\n",
    "PEP 8 exists to improve the readability of Python code.\n",
    "\n",
    "PEP follows : Naming Conventions Code Layout Indentation Comments Documentation Strings"
   ]
  },
  {
   "cell_type": "code",
   "execution_count": null,
   "id": "81165ab7",
   "metadata": {},
   "outputs": [],
   "source": [
    "#Difference between range and xrange?\n",
    "The range() and xrange() are two functions that could be used to iterate a certain number of times in for loops in Python.\n",
    "Both are implemented in different ways and have different characteristics associated with them. The points of comparison are:\n",
    "1.Return Type : range() returns – range object. xrange() returns – xrange() object.\n",
    "\n",
    "2.Memory : The variable storing the range created by range() takes more memory as compared to the variable storing the range using xrange(). The basic reason for this is the return type of range() is list and xrange() is xrange() object.\n",
    "\n",
    "3.Operation Usage : As range() returns the list, all the operations that can be applied on the list can be used on it. On the other hand, as xrange() returns the xrange object, operations associated to list cannot be applied on them, hence a disadvantage.\n",
    "\n",
    "4.Speed : Because of the fact that xrange() evaluates only the generator object containing only the values that are required by lazy evaluation, therefore is faster in implementation than range().\n"
   ]
  },
  {
   "cell_type": "code",
   "execution_count": null,
   "id": "8fee4660",
   "metadata": {},
   "outputs": [],
   "source": [
    "#What are global and local variables?\n",
    "Global Variables: These are the variables that are included in any particular function but can be accessed and used as per the requirement through out the code whereever needed.\n",
    "Local variables : These are the varibles taht are included ina specific function and be only used inside that function. If we try to use them out of that function we either need to intiate them again or it will throw an error.\n",
    "\n",
    "For Example: a=9\n",
    "b=10 ### Here a and b are global variables def summation(): ### sums is a local variable declared inside function summation sums=a+b print(sums) def difference(): ### diff is also a local variable declared inside functio difference diff=a-b print(diff)\n",
    "\n",
    "summation() diff()\n",
    "we can use a and b in both fuctions but we cannot use sums in difference function and we cannot use diff in summation function"
   ]
  },
  {
   "cell_type": "code",
   "execution_count": null,
   "id": "34a3d275",
   "metadata": {},
   "outputs": [],
   "source": [
    "#Difference between python 2 and python 3?\n",
    "Important differences between python 2 and python 3 Division operator print function Unicode xrange Error Handling future module\n",
    "\n",
    "Python 2 syntax are lot more difficult than python 3 syntax."
   ]
  },
  {
   "cell_type": "code",
   "execution_count": null,
   "id": "41db692e",
   "metadata": {},
   "outputs": [],
   "source": [
    "#MIRRORED PALINDROME\n",
    "*Mirrored Palindromes and Word Unit Palindromes are two types of Palindromes which are words or phrases that read the same in both directions, e.g. EYE, or RACECAR, or MADAM I'M ADAM.\n",
    "\n",
    "Here are a few good ones:\n",
    "\n",
    "• Do geese see God?\n",
    "\n",
    "• Was it Eliot's toilet I saw?\n",
    "\n",
    "• Murder for a jar of red rum.\n",
    "\n",
    "• Some men interpret nine memos.\n",
    "\n",
    "• Never odd or even.\n",
    "\n",
    "The Palindromes form an integral part of the English Language. Acquaintance with the vocabulary of the English language is a necessity for effective expression either in written or in an oral from."
   ]
  },
  {
   "cell_type": "code",
   "execution_count": 3,
   "id": "4a119325",
   "metadata": {},
   "outputs": [
    {
     "name": "stdout",
     "output_type": "stream",
     "text": [
      "Enter you string:\n",
      "'level'\n",
      "Given String is palindrome\n"
     ]
    }
   ],
   "source": [
    "a=eval(input(\"Enter you string:\\n\"))\n",
    "if a==a[::-1]: # w[::-1] it will reverse the given string value.\n",
    "    print(\"Given String is palindrome\")\n",
    "else:\n",
    "    print(\"Given String is not palindrome\")"
   ]
  },
  {
   "cell_type": "code",
   "execution_count": null,
   "id": "44070cde",
   "metadata": {},
   "outputs": [],
   "source": []
  }
 ],
 "metadata": {
  "kernelspec": {
   "display_name": "Python 3 (ipykernel)",
   "language": "python",
   "name": "python3"
  },
  "language_info": {
   "codemirror_mode": {
    "name": "ipython",
    "version": 3
   },
   "file_extension": ".py",
   "mimetype": "text/x-python",
   "name": "python",
   "nbconvert_exporter": "python",
   "pygments_lexer": "ipython3",
   "version": "3.9.7"
  }
 },
 "nbformat": 4,
 "nbformat_minor": 5
}
